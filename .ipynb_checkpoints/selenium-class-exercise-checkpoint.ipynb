{
 "cells": [
  {
   "cell_type": "markdown",
   "metadata": {},
   "source": [
    "<img src=\"http://imgur.com/1ZcRyrc.png\" style=\"float: left; margin: 20px; height: 55px\">\n",
    "\n",
    "# Introduction to Selenuim (Class Exercise)\n",
    "\n",
    "\n",
    "_Instructor: Esraa Madi_\n",
    "\n",
    "---\n",
    "### Learning Objectives\n",
    "- Discuss limitations associated with simple requests and urllib libraries\n",
    "- Introduce Selenium as a solution, and implement a scraper using selenium\n"
   ]
  },
  {
   "cell_type": "markdown",
   "metadata": {},
   "source": [
    "### What is Selenium?\n",
    "---\n",
    "\n",
    "Selenium is a web automation framework that can be used to automate website testing. Because Selenium starts a webbrowser, it can do any task you would normally do on the web (ex: It allows us to render JavaScript just as a human-navigated browser would)\n",
    "\n",
    "### Install Selenium\n",
    "\n",
    "Students will need to install Selenium using one of the following:\n",
    "- **Anaconda:** `conda install -c conda-forge selenium`\n",
    "- **pip:** `pip install selenium`\n",
    "\n",
    "And need to have [Webdriver](https://docs.seleniumhq.org/download/) in the same lesson directory."
   ]
  },
  {
   "cell_type": "code",
   "execution_count": 4,
   "metadata": {},
   "outputs": [],
   "source": [
    "#### Web scraping steps :\n",
    "\n",
    "## Step 1 : Download Html page \n",
    "## Step 2 : Parsing data (xpath)\n",
    "## Step 3 : Save data in dataframe"
   ]
  },
  {
   "cell_type": "markdown",
   "metadata": {},
   "source": [
    "### Exercise 1 :\n",
    "---\n",
    "\n",
    "<img src=\"http://brand.opentable.com/wp-content/uploads/2015/03/OTLogo_rationalization-r1d-011.png\" style=\"float: left; margin: 20px; height: 55px\">\n",
    "<br>\n",
    "\n",
    "## Let's Scrape (OpenTable) Website\n",
    "\n",
    "<br>\n",
    "\n",
    "[OpenTable](https://www.opentable.com/washington-dc-restaurant-listings) is an online table booking in restaurants. Let's scrape their site to get how many times each restaurant has booked.\n",
    "\n",
    "\n",
    "let's start by explore the structure of the page"
   ]
  },
  {
   "cell_type": "code",
   "execution_count": 1,
   "metadata": {},
   "outputs": [],
   "source": [
    "import re\n",
    "import requests\n",
    "import pandas as pd\n",
    "from bs4 import BeautifulSoup\n",
    "from time import sleep\n",
    "from selenium import webdriver"
   ]
  },
  {
   "cell_type": "markdown",
   "metadata": {},
   "source": [
    "### 1- Requests"
   ]
  },
  {
   "cell_type": "code",
   "execution_count": 2,
   "metadata": {},
   "outputs": [],
   "source": [
    "## Step 1 : Download Html page "
   ]
  },
  {
   "cell_type": "code",
   "execution_count": 6,
   "metadata": {},
   "outputs": [],
   "source": []
  },
  {
   "cell_type": "code",
   "execution_count": 7,
   "metadata": {},
   "outputs": [],
   "source": [
    "# step 2 : parsing"
   ]
  },
  {
   "cell_type": "code",
   "execution_count": null,
   "metadata": {},
   "outputs": [],
   "source": []
  },
  {
   "cell_type": "markdown",
   "metadata": {},
   "source": [
    "### 2- Selenium\n"
   ]
  },
  {
   "cell_type": "code",
   "execution_count": 2,
   "metadata": {},
   "outputs": [],
   "source": [
    "## Step 1 : Download Html page "
   ]
  },
  {
   "cell_type": "code",
   "execution_count": null,
   "metadata": {},
   "outputs": [],
   "source": []
  },
  {
   "cell_type": "code",
   "execution_count": 7,
   "metadata": {},
   "outputs": [],
   "source": [
    "# step 2 : parsing"
   ]
  },
  {
   "cell_type": "code",
   "execution_count": null,
   "metadata": {},
   "outputs": [],
   "source": []
  },
  {
   "cell_type": "markdown",
   "metadata": {},
   "source": [
    "### Exercise 2 :\n",
    "---\n",
    "\n",
    "<img src=\"https://www.absolutegeeks.com/wp-content/uploads/2016/11/196945-souq-logo-secondary-en-web-f8e9a3-original-1456722541.png\" style=\"float: left; margin: 20px; height: 55px\">\n",
    "<br>\n",
    "\n",
    "##  Web Automation With Selenium\n",
    "<br>\n",
    "Let's do automated Search for `apple` phones in [(Souq Saudi)](https://saudi.souq.com/sa-en/apple/mobile-phones-33/new/a-t-c/s/?_=1459842493768&page=1&ref=nav)"
   ]
  },
  {
   "cell_type": "code",
   "execution_count": null,
   "metadata": {},
   "outputs": [],
   "source": []
  },
  {
   "cell_type": "code",
   "execution_count": null,
   "metadata": {},
   "outputs": [],
   "source": []
  }
 ],
 "metadata": {
  "kernelspec": {
   "display_name": "Python 3",
   "language": "python",
   "name": "python3"
  },
  "language_info": {
   "codemirror_mode": {
    "name": "ipython",
    "version": 3
   },
   "file_extension": ".py",
   "mimetype": "text/x-python",
   "name": "python",
   "nbconvert_exporter": "python",
   "pygments_lexer": "ipython3",
   "version": "3.6.5"
  }
 },
 "nbformat": 4,
 "nbformat_minor": 2
}
